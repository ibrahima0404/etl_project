{
 "cells": [
  {
   "cell_type": "code",
   "execution_count": null,
   "id": "41ba2c7f-84be-4cf7-8ff6-2baf0672cf94",
   "metadata": {},
   "outputs": [
    {
     "name": "stdout",
     "output_type": "stream",
     "text": [
      "Requirement already satisfied: pymongo in /opt/anaconda3/lib/python3.12/site-packages (4.15.1)\n",
      "Requirement already satisfied: dnspython<3.0.0,>=1.16.0 in /opt/anaconda3/lib/python3.12/site-packages (from pymongo) (2.8.0)\n",
      "Requirement already satisfied: SQLAlchemy in /opt/anaconda3/lib/python3.12/site-packages (2.0.34)\n",
      "Requirement already satisfied: typing-extensions>=4.6.0 in /opt/anaconda3/lib/python3.12/site-packages (from SQLAlchemy) (4.11.0)\n"
     ]
    }
   ],
   "source": [
    "!pip install pymongo\n",
    "!pip install SQLAlchemy\n",
    "\n",
    "from pymongo import MongoClient\n",
    "from datetime import datetime\n",
    "import pandas as pd\n",
    "from sqlalchemy import create_engine, inspect\n",
    "from dateutil.relativedelta import relativedelta\n",
    "\n",
    "HOST = \"34.155.6.23\"\n",
    "MONGO_PORT = 27017\n",
    "PSQL_PORT = 5432\n",
    "DB_USER = \"pacha\"\n",
    "DB_PASSWORD = \"passer\""
   ]
  },
  {
   "cell_type": "code",
   "execution_count": 71,
   "id": "c0b0c771-cbed-4e8b-b6f5-135042acddac",
   "metadata": {},
   "outputs": [
    {
     "name": "stdout",
     "output_type": "stream",
     "text": [
      "                        _id  overall  verified   reviewTime      reviewerID  \\\n",
      "0  68cbd3532d9228a925e9adee      4.0     False  07 27, 2015  A1JGAP0185YJI6   \n",
      "1  68cbd3532d9228a925e9adef      5.0      True  10 17, 2015  A1HP7NVNPFMA4N   \n",
      "\n",
      "         asin reviewerName                                         reviewText  \\\n",
      "0  0700026657       travis  I played it a while but it was alright. The st...   \n",
      "1  0700026657  Ambrosia075  This game is a bit hard to get the hang of, bu...   \n",
      "\n",
      "                                       summary  unixReviewTime vote style  \\\n",
      "0  But in spite of that it was fun, I liked it      1437955200  NaN   NaN   \n",
      "1                  but when you do it's great.      1445040000  NaN   NaN   \n",
      "\n",
      "  image  \n",
      "0   NaN  \n",
      "1   NaN  \n"
     ]
    }
   ],
   "source": [
    "# --- Connexion à MongoDB  ---\n",
    "client = MongoClient(f\"mongodb://{HOST}:{MONGO_PORT}/\") \n",
    "db = client[\"videoGames\"]\n",
    "collection = db[\"games\"]\n",
    "\n",
    "cursor = collection.find()\n",
    "df = pd.DataFrame(list(cursor))\n",
    "print(df.head(2))\n"
   ]
  },
  {
   "cell_type": "code",
   "execution_count": null,
   "id": "3bae21ca-dff2-4e0b-a387-23a89d2659b8",
   "metadata": {},
   "outputs": [
    {
     "data": {
      "text/plain": [
       "715"
      ]
     },
     "execution_count": 62,
     "metadata": {},
     "output_type": "execute_result"
    }
   ],
   "source": [
    "# --- Aggrégation ---\n",
    "date = datetime.fromisoformat(\"2015-01-01\")\n",
    "six_months_ago = date - relativedelta(months=6)\n",
    "df[\"review_date\"] = pd.to_datetime(df[\"reviewTime\"], format=\"%m %d, %Y\")\n",
    "df_last_6_months = df[(df[\"review_date\"] >= six_months_ago) & (df[\"review_date\"] <= date)]\n",
    "df_agg = df_last_6_months.groupby(\"asin\").agg(\n",
    "    average_rating=(\"overall\", \"mean\"),\n",
    "    rating_count=(\"reviewerID\", \"count\"),\n",
    "    oldest_rating=(\"review_date\", \"min\"),\n",
    "    latest_rating=(\"review_date\", \"max\")\n",
    ")\n",
    "\n",
    "df_agg = df_agg.rename_axis(\"game_id\").reset_index()\n",
    "\n",
    "# --- Insertion dans la DB ---\n",
    "engine = create_engine(f\"postgresql://{DB_USER}:{DB_PASSWORD}@{HOST}:{PSQL_PORT}/video_games\")\n",
    "df_agg.to_sql(\"top_rated_games\", engine, if_exists=\"append\", index=False)\n",
    "\n"
   ]
  },
  {
   "cell_type": "code",
   "execution_count": 64,
   "id": "439042be-20e5-427c-9a75-ee21b4e91058",
   "metadata": {},
   "outputs": [
    {
     "name": "stdout",
     "output_type": "stream",
     "text": [
      "Tables dans la DB : ['top_rated_games']\n",
      "      game_id  average_rating  rating_count oldest_rating latest_rating\n",
      "0  0700026398        4.000000             4    2014-07-01    2014-08-12\n",
      "1  0700026657        3.333333             6    2014-08-02    2014-12-25\n",
      "2  0804161380        5.000000            20    2014-07-05    2014-12-24\n",
      "3  3828770193        5.000000             2    2014-10-18    2014-10-18\n",
      "4  6050036071        4.750000             8    2014-10-02    2014-12-14\n"
     ]
    }
   ],
   "source": [
    "# --- Vérification des données dans la table ---\n",
    "inspector = inspect(engine)\n",
    "tables = inspector.get_table_names()\n",
    "print(\"Tables dans la DB :\", tables)\n",
    "\n",
    "df_games = pd.read_sql(\"SELECT * FROM top_rated_games;\", engine)  # Remplace \"games\" par le nom de ta table\n",
    "print(df_games.head())"
   ]
  },
  {
   "cell_type": "code",
   "execution_count": null,
   "id": "c32869f7-ee38-4ac5-84c8-f67cfe844b4b",
   "metadata": {},
   "outputs": [],
   "source": []
  }
 ],
 "metadata": {
  "kernelspec": {
   "display_name": "Python [conda env:base] *",
   "language": "python",
   "name": "conda-base-py"
  },
  "language_info": {
   "codemirror_mode": {
    "name": "ipython",
    "version": 3
   },
   "file_extension": ".py",
   "mimetype": "text/x-python",
   "name": "python",
   "nbconvert_exporter": "python",
   "pygments_lexer": "ipython3",
   "version": "3.12.2"
  }
 },
 "nbformat": 4,
 "nbformat_minor": 5
}
